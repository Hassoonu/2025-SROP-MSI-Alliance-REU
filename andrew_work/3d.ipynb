{
 "cells": [
  {
   "cell_type": "code",
   "execution_count": 1,
   "metadata": {},
   "outputs": [],
   "source": [
    "import rasterio\n",
    "import numpy as np\n",
    "import pandas as pd\n",
    "import plotly.graph_objects as go"
   ]
  },
  {
   "cell_type": "code",
   "execution_count": 2,
   "metadata": {},
   "outputs": [
    {
     "ename": "IndexError",
     "evalue": "too many indices for array: array is 1-dimensional, but 3 were indexed",
     "output_type": "error",
     "traceback": [
      "\u001b[31m---------------------------------------------------------------------------\u001b[39m",
      "\u001b[31mIndexError\u001b[39m                                Traceback (most recent call last)",
      "\u001b[36mCell\u001b[39m\u001b[36m \u001b[39m\u001b[32mIn[2]\u001b[39m\u001b[32m, line 9\u001b[39m\n\u001b[32m      6\u001b[39m x = np.arange(\u001b[32m0\u001b[39m, cols)\n\u001b[32m      7\u001b[39m y = np.arange(\u001b[32m0\u001b[39m, rows)\n\u001b[32m----> \u001b[39m\u001b[32m9\u001b[39m X_coords=np.array(\u001b[43mnp\u001b[49m\u001b[43m.\u001b[49m\u001b[43marray\u001b[49m\u001b[43m(\u001b[49m\u001b[43mx\u001b[49m\u001b[43m)\u001b[49m\u001b[43m[\u001b[49m\u001b[32;43m3\u001b[39;49m\u001b[43m,\u001b[49m\u001b[43m \u001b[49m\u001b[32;43m4\u001b[39;49m\u001b[43m,\u001b[49m\u001b[43m \u001b[49m\u001b[32;43m5\u001b[39;49m\u001b[43m]\u001b[49m)\n\u001b[32m     10\u001b[39m Y_coords=np.array(np.array(y)[\u001b[32m3\u001b[39m, \u001b[32m4\u001b[39m, \u001b[32m5\u001b[39m])\n\u001b[32m     11\u001b[39m Z_coords=elevation_data[\u001b[32m3\u001b[39m, \u001b[32m4\u001b[39m, \u001b[32m5\u001b[39m]\n",
      "\u001b[31mIndexError\u001b[39m: too many indices for array: array is 1-dimensional, but 3 were indexed"
     ]
    }
   ],
   "source": [
    "with rasterio.open('datasets/temp/SETSM_s2s041_WV02_20240505_10300100FA6CA900_10300100FAAD4400_2m_seg5_dem.tif') as src:\n",
    "    elevation_data = src.read(1)\n",
    "    transform = src.transform\n",
    "\n",
    "rows, cols = elevation_data.shape\n",
    "x = np.arange(0, cols)\n",
    "y = np.arange(0, rows)\n",
    "\n",
    "X_coords=np.array(np.array(x)[3, 4, 5])\n",
    "Y_coords=np.array(np.array(y)[3, 4, 5])\n",
    "Z_coords=elevation_data[3, 4, 5]\n",
    "\n",
    "fig = go.Figure(data=[go.Surface(z=Z_coords, x=X_coords, y=Y_coords, colorscale='Viridis')])\n",
    "fig.update_layout(\n",
    "    title = 'Elevation Data for ArcticDEM',\n",
    "    scene=dict(\n",
    "        xaxis_title='Longitude',\n",
    "        yaxis_title='Latitude',\n",
    "        zaxis_title='Elevation (m)'\n",
    "    ),\n",
    "    autosize=True,\n",
    "    margin=dict(l=0,r=0,b=0,t=30)\n",
    "\n",
    ")\n",
    "fig.show()\n"
   ]
  }
 ],
 "metadata": {
  "kernelspec": {
   "display_name": ".venv",
   "language": "python",
   "name": "python3"
  },
  "language_info": {
   "codemirror_mode": {
    "name": "ipython",
    "version": 3
   },
   "file_extension": ".py",
   "mimetype": "text/x-python",
   "name": "python",
   "nbconvert_exporter": "python",
   "pygments_lexer": "ipython3",
   "version": "3.12.7"
  }
 },
 "nbformat": 4,
 "nbformat_minor": 2
}
