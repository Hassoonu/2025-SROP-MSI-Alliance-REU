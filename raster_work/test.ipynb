{
 "cells": [
  {
   "cell_type": "markdown",
   "id": "d5ae48fa",
   "metadata": {},
   "source": [
    "# Purpose\n",
    "This folder is made to test Rasterio and see if it should be used instead of Pillow. Results here will help us decide the future implementation of this project."
   ]
  },
  {
   "cell_type": "markdown",
   "id": "486cd012",
   "metadata": {},
   "source": [
    "# Installation\n",
    "\n",
    "1) Install Anaconda/miniconda (if not already installed) \n",
    "    - Here's miniconda link: https://docs.conda.io/en/latest/miniconda.html\n",
    "    - Make sure to **check the box** to \"Add Miniconda to PATH\" during installation.\n",
    "    - Restart your terminal after installation.\n",
    "2) create an environment in conda from the environment file provided:\n",
    "```bash\n",
    "    conda env create -f environment.yml\n",
    "    conda activate rasterenv\n",
    "```\n",
    "3) Register conda env for jupyter notebooks (do it while in environment):\n",
    "```bash\n",
    "    conda install ipykernel\n",
    "    python -m ipykernel install --user --name=rasterenv --display-name \"Python (rasterenv)\"\n",
    "```\n"
   ]
  },
  {
   "cell_type": "markdown",
   "id": "1b4b3aa2",
   "metadata": {},
   "source": [
    "# test code:"
   ]
  },
  {
   "cell_type": "code",
   "execution_count": null,
   "id": "e9ffbdc4",
   "metadata": {},
   "outputs": [
    {
     "name": "stdout",
     "output_type": "stream",
     "text": [
      "Width: 10928\n",
      "Height: 10654\n",
      "CRS: EPSG:3413\n",
      "Bounds: BoundingBox(left=-1649412.0, bottom=4067842.0, right=-1627556.0, top=4089150.0)\n"
     ]
    }
   ],
   "source": [
    "import rasterio\n",
    "# below is path to data to test on\n",
    "test_file = \"../data/SETSM_s2s041_WV02_20190307_103001008C5DEA00_103001008ED5D700_2m_seg1/SETSM_s2s041_WV02_20190307_103001008C5DEA00_103001008ED5D700_2m_seg1_dem.tif\"\n",
    "\n",
    "with rasterio.open(test_file) as dataset:\n",
    "    print(\"Width:\", dataset.width)\n",
    "    print(\"Height:\", dataset.height)\n",
    "    print(\"CRS:\", dataset.crs)\n",
    "    print(\"Bounds:\", dataset.bounds)\n",
    "\n",
    "    band1 = dataset.read(1)  # Read the first band into a NumPy array\n"
   ]
  }
 ],
 "metadata": {
  "kernelspec": {
   "display_name": "rasterenv",
   "language": "python",
   "name": "python3"
  },
  "language_info": {
   "codemirror_mode": {
    "name": "ipython",
    "version": 3
   },
   "file_extension": ".py",
   "mimetype": "text/x-python",
   "name": "python",
   "nbconvert_exporter": "python",
   "pygments_lexer": "ipython3",
   "version": "3.11.13"
  }
 },
 "nbformat": 4,
 "nbformat_minor": 5
}
