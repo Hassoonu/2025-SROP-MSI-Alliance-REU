{
 "cells": [
  {
   "cell_type": "code",
   "execution_count": 3,
   "metadata": {},
   "outputs": [],
   "source": [
    "import os\n",
    "import rasterio\n",
    "import numpy as np\n",
    "from typing import List\n",
    "import matplotlib.pyplot as plt\n",
    "from scipy.stats import linregress as lr\n",
    "import math as mt\n",
    "from matplotlib.backends.backend_pdf import PdfPages\n",
    "from datetime import datetime"
   ]
  },
  {
   "cell_type": "code",
   "execution_count": 7,
   "metadata": {},
   "outputs": [],
   "source": [
    "def box_count(raster: np.ndarray, box_size: int):\n",
    "    mask = ~(raster == -9999)\n",
    "    # print(mask)\n",
    "    rows, cols = raster.shape\n",
    "    total_box_count = 0 \n",
    "    box_count_for_size = 0\n",
    "    for i in range(0, rows, box_size):\n",
    "        for j in range(0, cols, box_size):\n",
    "            end_row = min(i + box_size, rows)\n",
    "            end_col = min(j + box_size, cols)\n",
    "            # print(f\"For location {i}, {j}, end row is {end_row} and end col is {end_col}\")\n",
    "            current_slice = raster[i:end_row, j:end_col]\n",
    "            current_mask = mask[i:end_row, j:end_col]\n",
    "\n",
    "            valid_vals = current_slice[current_mask]\n",
    "            if valid_vals.size > 0:\n",
    "                max_val = np.max(valid_vals)\n",
    "                min_val = np.min(valid_vals)\n",
    "                # print(f\"max_val = {max_val}, min_val={min_val}\")\n",
    "                hdiff = max_val - min_val # if box_size = 1 - hdiff = 0 // Times 2 to account for 2m by 2m by 1m scale\n",
    "                box_count = mt.ceil(hdiff / (2*box_size))\n",
    "                box_count_for_size += box_count\n",
    "                total_box_count += box_count\n",
    "        # print(f\"Total box count for box size {size} is {box_count_for_size}\")\n",
    "    return total_box_count\n",
    "\n",
    "def fractal_dimension(tif_file: str, box_sizes: List[int], pdf: PdfPages):\n",
    "    with rasterio.open(tif_file) as src:\n",
    "        image = src.read(1)\n",
    "    raster = np.array(image)\n",
    "\n",
    "    counts = [box_count(raster, size) for size in box_sizes]\n",
    "\n",
    "    log_eps = np.log(1 / np.array(box_sizes))\n",
    "    log_counts = np.log(counts)\n",
    "\n",
    "    slope, intercept = np.polyfit(log_eps, log_counts, 1)\n",
    "    dateyear = tif_file.split('_')[3]\n",
    "    fig, ax = plt.subplots(figsize=(8, 6))\n",
    "    ax.plot(log_eps, log_counts, 'o', label='Log-Log Data')\n",
    "    ax.plot(log_eps, slope * log_eps + intercept, 'r', label=f'Fit: slope = {slope:.4f}')\n",
    "    ax.set_xlabel('log(1/ε)')\n",
    "    ax.set_ylabel('log(N(ε))')\n",
    "    ax.set_title(f'Fractal Dimension Estimation\\n{dateyear}')\n",
    "    ax.legend()\n",
    "    ax.grid(True)\n",
    "\n",
    "    pdf.savefig(fig)\n",
    "    plt.close(fig)\n",
    "\n",
    "    return slope"
   ]
  },
  {
   "cell_type": "code",
   "execution_count": 8,
   "metadata": {},
   "outputs": [],
   "source": [
    "folder_path_relative = \"updated-datasets\"\n",
    "list_of_box_sizes = [100, 1000]\n",
    "\n",
    "with PdfPages(\"plots_of_fractal_dimensions.pdf\") as pdf:\n",
    "    for filename in os.listdir(folder_path_relative):\n",
    "        file_path = os.path.join(folder_path_relative, filename)\n",
    "        if os.path.isfile(file_path):\n",
    "            fractal_dimension(tif_file=file_path, box_sizes=list_of_box_sizes, pdf=pdf)"
   ]
  }
 ],
 "metadata": {
  "kernelspec": {
   "display_name": ".venv",
   "language": "python",
   "name": "python3"
  },
  "language_info": {
   "codemirror_mode": {
    "name": "ipython",
    "version": 3
   },
   "file_extension": ".py",
   "mimetype": "text/x-python",
   "name": "python",
   "nbconvert_exporter": "python",
   "pygments_lexer": "ipython3",
   "version": "3.12.7"
  }
 },
 "nbformat": 4,
 "nbformat_minor": 2
}
