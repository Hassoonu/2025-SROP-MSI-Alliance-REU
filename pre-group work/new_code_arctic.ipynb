{
 "cells": [
  {
   "cell_type": "markdown",
   "id": "a000b3c3",
   "metadata": {},
   "source": [
    "# Fractal Dimension and Box Counting Functions for Calculating the Fractal Dimension of Data Elevation Maps (DEM) of Antarctic Terrain\n",
    "\n",
    "Professor Volodymyr Kindratenko\n",
    "\n",
    "Ezra Hazique bin Mohamad Mahazir, ehm5, CS397 SU24"
   ]
  },
  {
   "cell_type": "markdown",
   "id": "38db3697",
   "metadata": {},
   "source": [
    "Importing necessary libraries"
   ]
  },
  {
   "cell_type": "code",
   "execution_count": 1,
   "id": "394d3bab",
   "metadata": {},
   "outputs": [],
   "source": [
    "import numpy as np\n",
    "import pandas as pd\n",
    "import math as mt\n",
    "import matplotlib.pyplot as plt\n",
    "from scipy.stats import linregress as lr\n",
    "from PIL import Image"
   ]
  },
  {
   "cell_type": "markdown",
   "id": "58571b5b",
   "metadata": {},
   "source": [
    "# Box Counting Function\n",
    "\n",
    "The function estimates how \"rough\" or \"complex\" a terrain surface is using a 3D box-counting method. Firstly, it divides the 2D terrain into square blocks of size box_size $\\times$ box_size. Then check subsets of the box of terrain and use the mask to ignore invalid values. Then compute the height in each box. Then we use the following formula to count the boxes in the region:\n",
    "\n",
    "$\\:\\:\\:\\:\\:\\:\\:\\:\\:\\:\\:\\:\\:\\:\\:\\:\\:\\:\\:\\:\\:Box\\:Count = \\frac{height}{box\\:size}$\n",
    "\n",
    "The height is the height we calculated earlier by subtracting the maximum elevation by the minimum elevation in the region. Thus this simulates covering the 3D terrain with cubes of side length box_size. Then we keep a running sum of all the vertical boxes across the entire terrain and return this value."
   ]
  },
  {
   "cell_type": "code",
   "execution_count": 2,
   "id": "b0a39666",
   "metadata": {},
   "outputs": [],
   "source": [
    "def box_count(raster, mask, box_size):\n",
    "    rows, cols = raster.shape\n",
    "    total_count = 0\n",
    "\n",
    "    for i in range(0, rows, box_size):\n",
    "        for j in range(0, cols, box_size):\n",
    "            end_row = min(i + box_size, rows)\n",
    "            end_col = min(j + box_size, cols)\n",
    "\n",
    "            current_slice = raster[i:end_row, j:end_col]\n",
    "            current_mask = mask[i:end_row, j:end_col]\n",
    "\n",
    "            valid_vals = current_slice[~current_mask]\n",
    "            if valid_vals.size > 0:\n",
    "                max_val = np.max(valid_vals)\n",
    "                min_val = np.min(valid_vals)\n",
    "                hdiff = max_val - min_val\n",
    "                box_count = mt.ceil(hdiff / box_size)\n",
    "                total_count += box_count\n",
    "\n",
    "    return total_count"
   ]
  },
  {
   "cell_type": "markdown",
   "id": "507eca6c",
   "metadata": {},
   "source": [
    "# Fractal Dimension Function\n",
    "\n",
    "This functions loads a terrain elevation file (.tif DEM) and computes it fractal dimension of the terrrain surface using the box-counting method. It also visualizes the terrain and the log-log plot used for calculations. First, it opens the .tif image and converts it into a NumPy 2D array (raster). Then a mask is created to ignore invalid elevation values. According to the FRIDGE Antartic 2m DEM database, no data is represented by the value -9999 which is what we will mask out of our data.\n",
    "\n",
    "Then we print raster information which are the shape, dimension, min, mean and max. These help verify that the data loaded correctly. Then, display the elevation data as a grayscale image where lighter areas correspond to higher elevation values and darker ones to lower elevations. Next, for each box size, it calls the box_count() function to get the number of vertical 3D boxes needed to cover the terrain and store the result in counts.\n",
    "\n",
    "Once all counts are collected, the function transforms the data using logarithms for linear regression. In the formulae, $\\epsilon$ represents box size and $N(\\epsilon)$ represents the number of boxes counted. Below are the formulae used:\n",
    "\n",
    "X-Axis: $\\:\\:\\:\\:\\:\\:\\:\\:\\:\\:\\:\\log{(\\frac{1}{\\epsilon})}$\n",
    "\n",
    "Y-Axis: $\\:\\:\\:\\:\\:\\:\\:\\:\\:\\:\\:\\log{N(\\epsilon)}$\n",
    "\n",
    "A linear regression is then performed on this log-log data to estimate the relationship between box size and box count. According to the theory of fractals, the relationship follows a power law:\n",
    "\n",
    "$\\:\\:\\:\\:\\:\\:\\:\\:\\:\\:\\:\\:\\:\\:\\:\\:\\:\\:\\:\\:\\:\\:\\: N(\\epsilon) \\propto \\epsilon^{-D}$\n",
    "\n",
    "$\\:\\:\\:\\:\\:\\:\\:\\:\\:\\:\\:\\:\\:\\:\\:\\:\\:\\:\\:\\:\\:\\:\\: \\log{}{N(\\epsilon)} = D \\log{}{(\\frac{1}{\\epsilon})} + C $\n",
    "\n",
    "Here, D is the fractal dimension of the terrain, and C is a constant. Thus, the slope of the line from the regression gives the estimated fractal dimension. Finally, the function plots the log-log data and the fitted line to visually confirm the power-law behavior, prints the resulting fractal dimension, and returns it. A slope near 2.0 indicates a surface that’s almost planar, higher slopes indicate more complexity (slope > 2.0). In short:\n",
    "\n",
    "$Slope \\approx 2.0 $: Nearly planar terrain\n",
    "\n",
    "$Slope > 2.0$: Increasing complexity/roughness terrain\n",
    "\n",
    "$Slope \\to 3.0$: Highly convoluted and space‐filling terrain"
   ]
  },
  {
   "cell_type": "code",
   "execution_count": 6,
   "id": "ecf9e4ad",
   "metadata": {},
   "outputs": [],
   "source": [
    "def fractal_dimension(tif_file, box_sizes):\n",
    "    Image.MAX_IMAGE_PIXELS = None\n",
    "    image = Image.open(tif_file)\n",
    "    raster = np.array(image)\n",
    "    mask = (raster == -9999)\n",
    "\n",
    "    print(f\"'{tif_file}' has shape {raster.shape} with {raster.ndim}D dimensions\")\n",
    "\n",
    "    avg = np.mean(raster[~mask])\n",
    "    low = np.min(raster[~mask])\n",
    "    high = np.max(raster[~mask])\n",
    "\n",
    "    df = pd.DataFrame({\"Average Elevation\": [avg], \"Minimum Elevation\": [low], \"Maximum Elevation\": [high]})\n",
    "    print(df)\n",
    "\n",
    "    # plt.imshow(raster, cmap='gray')\n",
    "    # plt.colorbar(label='Elevation')\n",
    "    # plt.title('Elevation Data')\n",
    "    # plt.xlabel('X')\n",
    "    # plt.ylabel('Y')\n",
    "    # plt.show()\n",
    "\n",
    "    counts = []\n",
    "    bsize = []\n",
    "    for box_size in box_sizes:\n",
    "        bsize.append(box_size)\n",
    "        count = box_count(raster, mask, box_size)\n",
    "        counts.append(count)\n",
    "    \n",
    "    df_counts = pd.DataFrame({\"Box Size\": bsize, \"Counted Boxes\": counts})\n",
    "    print(df_counts)\n",
    "\n",
    "    log_eps = np.log(1 / np.array(box_sizes))\n",
    "    log_counts = np.log(counts)\n",
    "\n",
    "    slope, intercept, *_ = lr(log_eps, log_counts)\n",
    "\n",
    "    plt.figure(figsize=(8, 6))\n",
    "    plt.plot(log_eps, log_counts, 'o', label='Log-Log Data')\n",
    "    plt.plot(log_eps, slope * log_eps + intercept, 'r', label=f'Fit: slope = {slope:.4f}')\n",
    "    plt.xlabel('log(1/ε)')\n",
    "    plt.ylabel('log(N(ε))')\n",
    "    plt.title('Fractal Dimension Estimation')\n",
    "    plt.legend()\n",
    "    plt.grid(True)\n",
    "    plt.show()\n",
    "\n",
    "    print(f\"Estimated fractal dimension: {slope:.4f}\")\n",
    "    return slope"
   ]
  },
  {
   "cell_type": "markdown",
   "id": "c8059914",
   "metadata": {},
   "source": [
    "# Testing the Function with a Random Antarctic Terrain DEM"
   ]
  },
  {
   "cell_type": "code",
   "execution_count": 12,
   "id": "154ebb20",
   "metadata": {},
   "outputs": [
    {
     "name": "stdout",
     "output_type": "stream",
     "text": [
      "'SETSM_s2s041_WV03_20240328_1040010092555600_1040010094CC8500_2m_seg1_dem.tif' has shape (11990, 9759) with 2D dimensions\n",
      "   Average Elevation  Minimum Elevation  Maximum Elevation\n",
      "0         508.074554           73.28125             1097.0\n",
      "    Box Size  Counted Boxes\n",
      "0          5        3573089\n",
      "1         10         934256\n",
      "2         15         419634\n",
      "3         20         236801\n",
      "4         25         151687\n",
      "5         30         105392\n",
      "6         35          77468\n",
      "7         40          59197\n",
      "8         45          46765\n",
      "9         50          37798\n",
      "10        55          31249\n",
      "11        60          26213\n",
      "12        65          22270\n",
      "13        70          19230\n",
      "14        75          16699\n",
      "15        80          14653\n",
      "16        85          13012\n",
      "17        90          11566\n",
      "18        95          10376\n",
      "19       100           9354\n"
     ]
    },
    {
     "data": {
      "image/png": "[encoded data removed]",
      "text/plain": [
       "<Figure size 800x600 with 1 Axes>"
      ]
     },
     "metadata": {},
     "output_type": "display_data"
    },
    {
     "name": "stdout",
     "output_type": "stream",
     "text": [
      "Estimated fractal dimension: 1.9927\n"
     ]
    }
   ],
   "source": [
    "box_sizes = [10, 20, 50, 100, 200, 500, 1000, 2000]\n",
    "list_of_box_sizes = [5, 10, 15, 20, 25, 30, 35, 40, 45, 50, 55, 60, 65, 70, 75, 80, 85, 90, 95, 100]\n",
    "test_tif = \"SETSM_s2s041_WV03_20240328_1040010092555600_1040010094CC8500_2m_seg1_dem.tif\"\n",
    "test_fd = fractal_dimension(test_tif, list_of_box_sizes)"
   ]
  },
  {
   "cell_type": "markdown",
   "id": "d58ce68c",
   "metadata": {},
   "source": [
    "The log–log plot is linear, and the fitted slope of about 1.969 lies just under 2.0. Since a perfectly flat plane would give a value of 2.0, this result tells us that, at the 10 – 2000 pixel scales used, this patch of Antarctic terrain is overwhelmingly planar, with only a small amount of roughness (from crevasses, melt channels, or surface undulations). While there is measurable complexity beyond a pure plane, the ice surface behaves almost like a smooth surface at these resolutions, and any fractal detail contributes only a modest “bump” above the ideal 2.0 baseline."
   ]
  }
 ],
 "metadata": {
  "kernelspec": {
   "display_name": ".venv",
   "language": "python",
   "name": "python3"
  },
  "language_info": {
   "codemirror_mode": {
    "name": "ipython",
    "version": 3
   },
   "file_extension": ".py",
   "mimetype": "text/x-python",
   "name": "python",
   "nbconvert_exporter": "python",
   "pygments_lexer": "ipython3",
   "version": "3.12.7"
  }
 },
 "nbformat": 4,
 "nbformat_minor": 5
}
