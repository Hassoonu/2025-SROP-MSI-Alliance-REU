{
 "cells": [
  {
   "cell_type": "code",
   "execution_count": 1,
   "id": "679170ca",
   "metadata": {},
   "outputs": [],
   "source": [
    "import rasterio\n",
    "from rasterio.plot import show\n",
    "import numpy as np\n",
    "import matplotlib.pyplot as plt\n",
    "import pandas as pd\n",
    "from PIL import Image"
   ]
  },
  {
   "cell_type": "code",
   "execution_count": 2,
   "id": "3081236a",
   "metadata": {},
   "outputs": [
    {
     "ename": "RasterioIOError",
     "evalue": "SETSM_s2s041_W2W2_20230406_10300100E36B6F00_10300100E4742A00_2m_seg5_dem.tif: No such file or directory",
     "output_type": "error",
     "traceback": [
      "\u001b[31m---------------------------------------------------------------------------\u001b[39m",
      "\u001b[31mCPLE_OpenFailedError\u001b[39m                      Traceback (most recent call last)",
      "\u001b[36mFile \u001b[39m\u001b[32mrasterio\\\\_base.pyx:310\u001b[39m, in \u001b[36mrasterio._base.DatasetBase.__init__\u001b[39m\u001b[34m()\u001b[39m\n",
      "\u001b[36mFile \u001b[39m\u001b[32mrasterio\\\\_base.pyx:221\u001b[39m, in \u001b[36mrasterio._base.open_dataset\u001b[39m\u001b[34m()\u001b[39m\n",
      "\u001b[36mFile \u001b[39m\u001b[32mrasterio\\\\_err.pyx:359\u001b[39m, in \u001b[36mrasterio._err.exc_wrap_pointer\u001b[39m\u001b[34m()\u001b[39m\n",
      "\u001b[31mCPLE_OpenFailedError\u001b[39m: SETSM_s2s041_W2W2_20230406_10300100E36B6F00_10300100E4742A00_2m_seg5_dem.tif: No such file or directory",
      "\nDuring handling of the above exception, another exception occurred:\n",
      "\u001b[31mRasterioIOError\u001b[39m                           Traceback (most recent call last)",
      "\u001b[36mCell\u001b[39m\u001b[36m \u001b[39m\u001b[32mIn[2]\u001b[39m\u001b[32m, line 2\u001b[39m\n\u001b[32m      1\u001b[39m filename = \u001b[33m\"\u001b[39m\u001b[33mSETSM_s2s041_W2W2_20230406_10300100E36B6F00_10300100E4742A00_2m_seg5_dem.tif\u001b[39m\u001b[33m\"\u001b[39m\n\u001b[32m----> \u001b[39m\u001b[32m2\u001b[39m img = \u001b[43mrasterio\u001b[49m\u001b[43m.\u001b[49m\u001b[43mopen\u001b[49m\u001b[43m(\u001b[49m\u001b[43mfilename\u001b[49m\u001b[43m)\u001b[49m\n\u001b[32m      4\u001b[39m \u001b[38;5;28mprint\u001b[39m(\u001b[33mf\u001b[39m\u001b[33m\"\u001b[39m\u001b[33mThe image has \u001b[39m\u001b[38;5;132;01m{\u001b[39;00mimg.count\u001b[38;5;132;01m}\u001b[39;00m\u001b[33m band\u001b[39m\u001b[33m\"\u001b[39m)\n\u001b[32m      5\u001b[39m \u001b[38;5;28mprint\u001b[39m(\u001b[33mf\u001b[39m\u001b[33m\"\u001b[39m\u001b[33mThe image is \u001b[39m\u001b[38;5;132;01m{\u001b[39;00mimg.width\u001b[38;5;132;01m}\u001b[39;00m\u001b[33mpx by \u001b[39m\u001b[38;5;132;01m{\u001b[39;00mimg.height\u001b[38;5;132;01m}\u001b[39;00m\u001b[33mpx\u001b[39m\u001b[33m\"\u001b[39m)\n",
      "\u001b[36mFile \u001b[39m\u001b[32mc:\\Users\\jonha\\miniconda3\\envs\\geodata\\Lib\\site-packages\\rasterio\\env.py:463\u001b[39m, in \u001b[36mensure_env_with_credentials.<locals>.wrapper\u001b[39m\u001b[34m(*args, **kwds)\u001b[39m\n\u001b[32m    460\u001b[39m     session = DummySession()\n\u001b[32m    462\u001b[39m \u001b[38;5;28;01mwith\u001b[39;00m env_ctor(session=session):\n\u001b[32m--> \u001b[39m\u001b[32m463\u001b[39m     \u001b[38;5;28;01mreturn\u001b[39;00m \u001b[43mf\u001b[49m\u001b[43m(\u001b[49m\u001b[43m*\u001b[49m\u001b[43margs\u001b[49m\u001b[43m,\u001b[49m\u001b[43m \u001b[49m\u001b[43m*\u001b[49m\u001b[43m*\u001b[49m\u001b[43mkwds\u001b[49m\u001b[43m)\u001b[49m\n",
      "\u001b[36mFile \u001b[39m\u001b[32mc:\\Users\\jonha\\miniconda3\\envs\\geodata\\Lib\\site-packages\\rasterio\\__init__.py:356\u001b[39m, in \u001b[36mopen\u001b[39m\u001b[34m(fp, mode, driver, width, height, count, crs, transform, dtype, nodata, sharing, opener, **kwargs)\u001b[39m\n\u001b[32m    353\u001b[39m     path = _parse_path(raw_dataset_path)\n\u001b[32m    355\u001b[39m \u001b[38;5;28;01mif\u001b[39;00m mode == \u001b[33m\"\u001b[39m\u001b[33mr\u001b[39m\u001b[33m\"\u001b[39m:\n\u001b[32m--> \u001b[39m\u001b[32m356\u001b[39m     dataset = \u001b[43mDatasetReader\u001b[49m\u001b[43m(\u001b[49m\u001b[43mpath\u001b[49m\u001b[43m,\u001b[49m\u001b[43m \u001b[49m\u001b[43mdriver\u001b[49m\u001b[43m=\u001b[49m\u001b[43mdriver\u001b[49m\u001b[43m,\u001b[49m\u001b[43m \u001b[49m\u001b[43msharing\u001b[49m\u001b[43m=\u001b[49m\u001b[43msharing\u001b[49m\u001b[43m,\u001b[49m\u001b[43m \u001b[49m\u001b[43m*\u001b[49m\u001b[43m*\u001b[49m\u001b[43mkwargs\u001b[49m\u001b[43m)\u001b[49m\n\u001b[32m    357\u001b[39m \u001b[38;5;28;01melif\u001b[39;00m mode == \u001b[33m\"\u001b[39m\u001b[33mr+\u001b[39m\u001b[33m\"\u001b[39m:\n\u001b[32m    358\u001b[39m     dataset = get_writer_for_path(path, driver=driver)(\n\u001b[32m    359\u001b[39m         path, mode, driver=driver, sharing=sharing, **kwargs\n\u001b[32m    360\u001b[39m     )\n",
      "\u001b[36mFile \u001b[39m\u001b[32mrasterio\\\\_base.pyx:312\u001b[39m, in \u001b[36mrasterio._base.DatasetBase.__init__\u001b[39m\u001b[34m()\u001b[39m\n",
      "\u001b[31mRasterioIOError\u001b[39m: SETSM_s2s041_W2W2_20230406_10300100E36B6F00_10300100E4742A00_2m_seg5_dem.tif: No such file or directory"
     ]
    }
   ],
   "source": [
    "filename = \"SETSM_s2s041_W2W2_20230406_10300100E36B6F00_10300100E4742A00_2m_seg5_dem.tif\"\n",
    "img = rasterio.open(filename)\n",
    "\n",
    "print(f\"The image has {img.count} band\")\n",
    "print(f\"The image is {img.width}px by {img.height}px\")\n",
    "width = img.bounds.right-img.bounds.left\n",
    "height = img.bounds.top-img.bounds.bottom\n",
    "print(f\"Our image covers the world from {img.bounds.left}m to {img.bounds.right}m, left to right and {img.bounds.top}m to {img.bounds.bottom}m top to bottom. It covers a region {width}m width, by {height}m height.\")\n",
    "print(f\"The coordinates of the center is {img.xy(img.height // 2, img.width // 2)}\")\n",
    "print(f\"The nodata value in the dataset is {img.nodata}\\n\")\n",
    "\n",
    "print(\"Metadata:\")\n",
    "print(img.meta)\n",
    "show(img)\n",
    "\n"
   ]
  },
  {
   "cell_type": "code",
   "execution_count": null,
   "id": "41419e58",
   "metadata": {},
   "outputs": [],
   "source": [
    "band1 = img.read(1)\n",
    "mask = ~(band1 == img.nodata)\n",
    "data = np.array(band1)\n",
    "print(data)\n",
    "\n",
    "plt.imshow(data, cmap=\"gray\")\n",
    "plt.colorbar(label='Elevation')\n"
   ]
  }
 ],
 "metadata": {
  "kernelspec": {
   "display_name": "Python 3",
   "language": "python",
   "name": "python3"
  },
  "language_info": {
   "codemirror_mode": {
    "name": "ipython",
    "version": 3
   },
   "file_extension": ".py",
   "mimetype": "text/x-python",
   "name": "python",
   "nbconvert_exporter": "python",
   "pygments_lexer": "ipython3",
   "version": "3.12.11"
  }
 },
 "nbformat": 4,
 "nbformat_minor": 5
}
