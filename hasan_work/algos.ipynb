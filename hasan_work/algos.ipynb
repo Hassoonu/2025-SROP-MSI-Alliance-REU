{
 "cells": [
  {
   "cell_type": "markdown",
   "id": "de70b1ad",
   "metadata": {},
   "source": [
    "Decided to try and learn the algos in the paper (https://arxiv.org/pdf/2401.11737) by trying to implement the algorithms they provided and typing info about them to ensure my understanding is valid."
   ]
  },
  {
   "cell_type": "markdown",
   "id": "0d392e01",
   "metadata": {},
   "source": [
    "# Algorithm 1: \n",
    "### The paper describes this algorithm's usage as \"estimation of fractal dimension of the surface of an atomistic object via box-counting technique.\"\n",
    "\n",
    "# Steps for Alg 1:\n",
    "#### Steps 1 and 2 - Use a nearest neighbor search to identify the neighbors of each atom (Step 1). Due to the nature of Ting et al. data being atomic coordinates, after identifying the nearest-neighbors of each atom, they then need to identify if the atoms are surface or inner atoms (step 2).\n",
    "\n",
    "#### Step 3 - Using either the Voxelized Point Cloud method or the Mathematically Precise Surface method, do box counting on the data\n",
    "\n",
    "#### Step 4 - Compute the slope of the log-log plot representing the change in box counts with respect to change in box length, \"along with the coefficient of determination $R^2$ and the confidence intervals at the confidence level specified by users\".\n",
    "\n",
    "Due to the nature of our data, we don't have datapoints that are considered inside or under the surface of the land our data is representing. Because of this, we can skip the nearest neighbor search algorithm (step 1) and deciding whether or not the data point is a surface point or not (step 2).\n",
    "\n",
    "This leaves our focus on Steps 3 and 4. \n",
    "\n",
    "Step 4 is relatively straight forward once the data is obtained, so most of the focus here will be on Step 3."
   ]
  },
  {
   "cell_type": "markdown",
   "id": "2bc29080",
   "metadata": {},
   "source": [
    "# Voxelized Point Cloud"
   ]
  },
  {
   "cell_type": "code",
   "execution_count": null,
   "id": "f3b076ba",
   "metadata": {
    "vscode": {
     "languageId": "plaintext"
    }
   },
   "outputs": [],
   "source": [
    "from PIL import Image\n",
    "\n",
    "dataFile = \"SETSM_s2s041_WV02_20190307_103001008C5DEA00_103001008ED5D700_2m_seg1/SETSM_s2s041_WV02_20190307_103001008C5DEA00_103001008ED5D700_2m_seg1_dem.tif\"\n",
    "\n"
   ]
  }
 ],
 "metadata": {
  "language_info": {
   "name": "python"
  }
 },
 "nbformat": 4,
 "nbformat_minor": 5
}
