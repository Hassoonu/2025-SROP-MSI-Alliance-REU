{
 "cells": [
  {
   "cell_type": "code",
   "execution_count": 3,
   "metadata": {},
   "outputs": [],
   "source": [
    "# Imports\n",
    "import numpy as np\n",
    "import pandas as pd\n",
    "import math as mt\n",
    "import matplotlib.pyplot as plt\n",
    "from scipy.stats import linregress as lr\n",
    "from PIL import Image\n",
    "from typing import List"
   ]
  },
  {
   "cell_type": "code",
   "execution_count": 11,
   "metadata": {},
   "outputs": [
    {
     "name": "stdout",
     "output_type": "stream",
     "text": [
      "  Image Shape  Image Dimension  Average Elevation  Minimum Elevation  \\\n",
      "0    (27, 27)                2         254.297668                254   \n",
      "\n",
      "   Maximum Elevation  \n",
      "0                255  \n"
     ]
    },
    {
     "name": "stderr",
     "output_type": "stream",
     "text": [
      "<>:4: SyntaxWarning: invalid escape sequence '\\d'\n",
      "<>:4: SyntaxWarning: invalid escape sequence '\\d'\n",
      "C:\\Users\\Hasan\\AppData\\Local\\Temp\\ipykernel_11428\\2079905547.py:4: SyntaxWarning: invalid escape sequence '\\d'\n",
      "  file_name = \"..\\data\\Sierpinski carpet.tif\"\n"
     ]
    }
   ],
   "source": [
    "# ArcticDEM data\n",
    "Image.MAX_IMAGE_PIXELS = None\n",
    "# file_name = \"..\\data\\SETSM_s2s041_WV02_20190307_103001008C5DEA00_103001008ED5D700_2m_seg1\\SETSM_s2s041_WV02_20190307_103001008C5DEA00_103001008ED5D700_2m_seg1_dem.tif\"\n",
    "file_name = \"..\\data\\Sierpinski carpet.tif\"\n",
    "image = Image.open(file_name)\n",
    "\n",
    "# Create mask\n",
    "raster = np.array(image) # 1D array of the image\n",
    "mask = ~(raster == -9999) # 1D array of T/F - False if data missing\n",
    "\n",
    "# Image Data\n",
    "shape = raster.shape\n",
    "dimension = raster.ndim\n",
    "average = np.mean(raster[mask])\n",
    "low = np.min(raster[mask])\n",
    "high = np.max(raster[mask])\n",
    "\n",
    "# Print Image Data\n",
    "arctic_dataframe = pd.DataFrame({\"Image Shape\": [shape], \"Image Dimension\": [dimension], \"Average Elevation\": [average], \"Minimum Elevation\": [low], \"Maximum Elevation\": [high]})\n",
    "print(arctic_dataframe)\n",
    "\n",
    "# Image File is too large - MemoryError\n",
    "# Show Image\n",
    "# plt.imshow(raster, cmap='Accent')\n",
    "# plt.colorbar(label='Elevation')\n",
    "# plt.title('Elevation Data')\n",
    "# plt.xlabel('X coord (2m)')\n",
    "# plt.ylabel('Y coord (2m)')\n",
    "# plt.show()\n",
    "\n",
    "# DEM strip and mosaic ﬁles are distributed at a ground sample distance (GSD) of 2 meters\n"
   ]
  },
  {
   "cell_type": "code",
   "execution_count": 12,
   "metadata": {},
   "outputs": [],
   "source": [
    "# Box Counting\n",
    "def box_count(raster: np.ndarray, mask: np.ndarray, box_size: List[int]):\n",
    "    rows, cols = raster.shape\n",
    "    total_box_count = 0 \n",
    "    for size in box_size:\n",
    "        box_count_for_size = 0\n",
    "        for i in range(0, rows, size):\n",
    "            for j in range(0, cols, size):\n",
    "                end_row = min(i + size, rows)\n",
    "                end_col = min(j + size, cols)\n",
    "\n",
    "                current_slice = raster[i:end_row, j:end_col]\n",
    "                current_mask = mask[i:end_row, j:end_col]\n",
    "\n",
    "                valid_vals = current_slice[current_mask]\n",
    "                if valid_vals.size > 0:\n",
    "                    max_val = np.max(valid_vals)\n",
    "                    min_val = np.min(valid_vals)\n",
    "                    hdiff = max_val - min_val\n",
    "                    box_count = mt.ceil(hdiff / size)\n",
    "                    box_count_for_size += box_count\n",
    "                    total_box_count += box_count\n",
    "        print(f\"Total box count for box size {size} is {box_count_for_size}\")\n",
    "    return total_box_count\n",
    "\n"
   ]
  },
  {
   "cell_type": "code",
   "execution_count": 13,
   "metadata": {},
   "outputs": [
    {
     "name": "stdout",
     "output_type": "stream",
     "text": [
      "Total box count for box size 16 is 4\n",
      "Total box count for box size 32 is 1\n",
      "Total box count for box size 64 is 1\n",
      "Total box count for box size 128 is 1\n",
      "Total box count for box size 256 is 1\n"
     ]
    },
    {
     "data": {
      "text/plain": [
       "8"
      ]
     },
     "execution_count": 13,
     "metadata": {},
     "output_type": "execute_result"
    }
   ],
   "source": [
    "box_sizes = [16, 32, 64, 128, 256]\n",
    "box_count(raster, mask, box_sizes)"
   ]
  },
  {
   "cell_type": "code",
   "execution_count": null,
   "metadata": {},
   "outputs": [],
   "source": []
  }
 ],
 "metadata": {
  "kernelspec": {
   "display_name": "pgc-stac-environment",
   "language": "python",
   "name": "python3"
  },
  "language_info": {
   "codemirror_mode": {
    "name": "ipython",
    "version": 3
   },
   "file_extension": ".py",
   "mimetype": "text/x-python",
   "name": "python",
   "nbconvert_exporter": "python",
   "pygments_lexer": "ipython3",
   "version": "3.13.5"
  }
 },
 "nbformat": 4,
 "nbformat_minor": 2
}
